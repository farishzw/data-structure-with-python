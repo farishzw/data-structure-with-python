{
 "cells": [
  {
   "cell_type": "markdown",
   "id": "7c40f57a",
   "metadata": {},
   "source": [
    "# python 数据结构与算法\n",
    "\n",
    "- 参考资料:[B站python数据结构与算法课程](https://www.bilibili.com/video/BV18W411T7Vv?p=2&vd_source=48098ebd2ffb78af787f4c0b33527d74)时长15小时\n",
    "- 参考书籍: 《数据结构与算法python语言描述》(裘宗燕著)；Data_Structure_with_Python\n",
    "- 课程目录\n",
    "    - 算法引入\n",
    "        - 算法的提出\n",
    "        - 算法效率衡量\n",
    "        - python内置类型性能分析\n",
    "    - 顺序表\n",
    "        - 顺序表的形式\n",
    "        - 顺序表的结构与实现\n",
    "        - 顺序表的操作\n",
    "        - python中的顺序表\n",
    "    - 链表\n",
    "        - 单项链表\n",
    "        - 单项循环链表"
   ]
  },
  {
   "cell_type": "markdown",
   "id": "5b513b7a",
   "metadata": {},
   "source": [
    "## 1、算法引入\n",
    "\n",
    "**什么是数据结构和算法--兵法**\n",
    "\n",
    "- 数据结构:**计算机存储和组织数据的方式**，涵盖数组、栈、列队、链表、树和图，并提供一些常用的操作方法，例如插入、删除、搜索、排序和遍历等。通过选择适当的数据结构可以有效地管理和操作数据\n",
    "- 算法：**解决问题的一系列步骤或者规则**。他们基于特定问题的需求，使用输入数据来产出输出结果，算法可以被看做是执行特定任务或者操作的指令集合。算法通常用于优化程序性能，提高可伸缩性和减少资源消耗，常见算法: 排序（快速排序、归并排序），查找算法（二分查找），图算法（最短路径）\n"
   ]
  },
  {
   "cell_type": "markdown",
   "id": "3f666f41",
   "metadata": {},
   "source": [
    "### 1.1 算法的提出\n",
    "#### 例题引入\n",
    "如果 a+b+c = 1000，且a^2+b^2 = c^2(a,b,c为自然数)，如果求出所有a,b,c的组合<br>**枚举法**\n",
    "<br>**思路**：a=0,b=0,c=0,是否满足a+b+c=1000条件，从c开始变1-1000，再改b=1,c从1-1000,以此类推"
   ]
  },
  {
   "cell_type": "code",
   "execution_count": null,
   "id": "e19a8591",
   "metadata": {},
   "outputs": [],
   "source": [
    "\n",
    "import time\n",
    "start_time = time.time()\n",
    "for a in range(0,1001):\n",
    "    for b in range(0,1001):\n",
    "        for c in range(0,1001):\n",
    "            if a+b+c == 1000 and a**2+b**2 ==c**2:\n",
    "                print(f\"{a},{b},{c}\")\n",
    "                print(\"a,b,c: %d, %d, %d\"%(a,b,c))\n",
    "end_time = time.time()\n",
    "print(\"time:%d\"%(end_time-start_time))\n",
    "print(\"finished\")"
   ]
  },
  {
   "cell_type": "markdown",
   "id": "fdb2791d",
   "metadata": {},
   "source": [
    "#### 算法的概念\n",
    "独立存在的一种解决问题的方法和思想：对算法而言，实现的语言不重要，重要的思想\n",
    "#### 算法的五大特征\n",
    "- 输入:算法有0个或多个输入\n",
    "- 输出: 至少有1个或多个输出\n",
    "- 有穷性: 有限步骤、可接受的时间内解决问题\n",
    "- 确切性:算法中的每一步有确定含义 (无歧义)\n",
    "- 可行性:每一步都可行"
   ]
  },
  {
   "cell_type": "markdown",
   "id": "550f585c",
   "metadata": {},
   "source": [
    "### 1.2 算法效率衡量"
   ]
  },
  {
   "cell_type": "markdown",
   "id": "58224139",
   "metadata": {},
   "source": [
    "#### 例题引入\n",
    "上述程序如何改进，减少运行时间"
   ]
  },
  {
   "cell_type": "code",
   "execution_count": 5,
   "id": "870800b6",
   "metadata": {},
   "outputs": [
    {
     "name": "stdout",
     "output_type": "stream",
     "text": [
      "a,b,c:0,500,500\n",
      "a,b,c:200,375,425\n",
      "a,b,c:375,200,425\n",
      "a,b,c:500,0,500\n",
      "finish time:1\n"
     ]
    }
   ],
   "source": [
    "#程序改进\n",
    "start_time = time.time()\n",
    "for a in range(0,1001):\n",
    "    for b in range(0,1001):\n",
    "        c = 1000-a-b\n",
    "        if a**2+b**2==c**2:\n",
    "            print(\"a,b,c:%d,%d,%d\"%(a,b,c))\n",
    "end_time = time.time()\n",
    "print(\"finish time:%d\"%(end_time-start_time))"
   ]
  },
  {
   "cell_type": "markdown",
   "id": "207edfd8",
   "metadata": {},
   "source": [
    "#### 执行时间反应算法效率\n",
    "- 执行环境不同会导致时间不同\n",
    "- 计算及执行基本运算的步骤数量相同\n",
    "- 执行时间与执行基本运算步骤的关系\n",
    "\n",
    "#### 时间复杂度与“大O记法”\n",
    "$T= 1000*1000*1000*2$<br>条件改变为$a+b+c=n$,时间复杂度$T = N*N*N*2 $\n",
    "<br>外推$T(n)=n^3*2 = O(n^3)$\n",
    "<br>时间复杂度: 假设存在函数$g$，使得算法A处理规模为$n$的问题示例所用时间为$T(n)=O(g(n))$，则称$O(g(n))$为算法A的渐进时间复杂度，简称时间复杂度$T(n)$\n",
    "\n",
    "#### 最坏时间复杂度\n",
    "[3,5,4,3,6]排序时，元素的顺序如[1,2,3,4,5,6]对排序算法有影响，判断算法在处理数据时最理想和最坏的情况\n",
    "\n",
    "- 最优时间复杂度：算法完成工作最少需要多少基本操作\n",
    "- **最坏时间复杂度**：算法完成工作最多需要多少基本操作（最有用的信息）\n",
    "- 平均时间复杂度：算法完成工作平均需要多少基本操作\n",
    "\n",
    "#### 时间复杂度的几条基本计算规则\n",
    "\n",
    "- 基本操作：只有常数项，认为其时间复杂度为O(1)\n",
    "- 顺序结构：时间复杂度加法计算\n",
    "- 循环：时间复杂度乘法计算\n",
    "- 条件：时间复杂度的最大值\n",
    "- 判断一个算法的效率是，只保留最高次项，没有特殊说明时，时间复杂度即最坏时间复杂度"
   ]
  },
  {
   "cell_type": "markdown",
   "id": "be34a78f",
   "metadata": {},
   "source": [
    "### 1.3 python内置类型性能分析\n",
    "python 中函数的时间复杂度\n",
    "#### timeit模块\n",
    "<br>**API**：https://docs.python.org/3/library/timeit.html\n",
    "<br>timeit模块用于测试一段python代码执行速度\n",
    "<br>**class timeit.Timer(stmt = 'pass',setup='pass',timer=<timer function)**\n",
    "- Timer测量小段代码执行速度的类\n",
    "- stmt statment测试代码语句\n",
    "- setup运行代码时需要的设置\n",
    "- timer定时器函数\n",
    "\n",
    "<br> **timeit.Timer.timeit(number=100000)**\n",
    "Timer类中测试语句执行速度的对象方法，number参数为测试代码时的测试参数，默认1000000次，方法返回执行代码的平均耗时"
   ]
  },
  {
   "cell_type": "code",
   "execution_count": 15,
   "id": "be2b67c2",
   "metadata": {},
   "outputs": [
    {
     "name": "stdout",
     "output_type": "stream",
     "text": [
      "append: 0.10709470000028887\n",
      "+: 0.117060400000355\n",
      "[i for i in range]: 0.04664890000003652\n",
      "list(range): 0.012088800000128685\n",
      "extend: 0.14431659999991098\n",
      "insert: 0.3103943999999501\n"
     ]
    }
   ],
   "source": [
    "from timeit import Timer\n",
    "\n",
    "\n",
    "def t1():\n",
    "    #尾部添加元素\n",
    "    li = []\n",
    "    for i in range(1000):\n",
    "        li.append(i)\n",
    "\n",
    "def t2():\n",
    "    #列表加法\n",
    "    li = []\n",
    "    for i in range(1000):\n",
    "        li +=[i]\n",
    "        \n",
    "def t3():\n",
    "    #列表生成式\n",
    "    li = [i for i in range(1000)]\n",
    "    \n",
    "def t4():\n",
    "    #列表定义式\n",
    "    li = list(range(1000))\n",
    "    \n",
    "def t5():\n",
    "    #尾部添加列表\n",
    "    li = []\n",
    "    for i in range(1000):\n",
    "        li.extend([i])\n",
    "        \n",
    "def t6():\n",
    "    #头部添加元素\n",
    "    li = []\n",
    "    for i in range(1000):\n",
    "        li.insert(0,i)\n",
    "        \n",
    "timer1 = Timer(\"t1()\",\"from __main__ import t1\")\n",
    "print(\"append:\",timer1.timeit(1000))\n",
    "\n",
    "timer2 = Timer(\"t2()\",\"from __main__ import t2\")\n",
    "print(\"+:\",timer2.timeit(1000))\n",
    "\n",
    "timer3 = Timer(\"t3()\",\"from __main__ import t3\")\n",
    "print(\"[i for i in range]:\",timer3.timeit(1000))\n",
    "\n",
    "timer4 = Timer(\"t4()\",\"from __main__ import t4\")\n",
    "print(\"list(range):\",timer4.timeit(1000))\n",
    "\n",
    "timer5 = Timer(\"t5()\",\"from __main__ import t5\")\n",
    "print(\"extend:\",timer5.timeit(1000))\n",
    "\n",
    "timer6 = Timer(\"t6()\",\"from __main__ import t6\")\n",
    "print(\"insert:\",timer6.timeit(1000))"
   ]
  },
  {
   "cell_type": "markdown",
   "id": "4b96d1c1",
   "metadata": {},
   "source": [
    "注：在Python 2.0中，range函数返回一个**列表**。例如，range(5)将返回一个包含数字0到4的列表。这种方法在需要生成具体数值范围的列表（如[1,2,3,4,5]）时非常有用。\n",
    "\n",
    "但在Python 3中，range函数变得更加灵活和高效。它不再返回一个列表，而是返回一个**range对象**，该对象按需生成其包含的数字序列。这个改变使得range函数可以处理更大的数字范围，并且可以在使用大型数据集时更加有效。\n",
    "\n",
    "另外，在Python 3中，如果您确实需要一个包含数字的列表，您可以使用新的“list”函数来转换一个“range对象”为一个列表。例如，list(range(5))将返回一个包含数字0到4的列表"
   ]
  },
  {
   "cell_type": "code",
   "execution_count": 22,
   "id": "34e4695f",
   "metadata": {},
   "outputs": [
    {
     "name": "stdout",
     "output_type": "stream",
     "text": [
      "pop_zero 0.04435940000030314 seconds\n",
      "pop_end 0.00012710000009974465 seconds\n"
     ]
    }
   ],
   "source": [
    "x = list(range(100000))\n",
    "pop_zero = Timer(\"x.pop(0)\",\"from __main__ import x\")#头部取元素\n",
    "print(\"pop_zero\",pop_zero.timeit(1000),\"seconds\")\n",
    "x = list(range(100000))\n",
    "pop_end = Timer(\"x.pop()\",\"from __main__ import x\")#尾部取元素\n",
    "print(\"pop_end\",pop_end.timeit(1000),\"seconds\")"
   ]
  },
  {
   "cell_type": "markdown",
   "id": "88e56738",
   "metadata": {},
   "source": [
    "**通过pop操作：结果显示，pop最后一个元素的效率远远高于pop第一个元素**\n",
    "<br>python常见操作时间复杂度计算参见https://www.ics.uci.edu/~pattis/ICS-33/lectures/complexitypython.txt"
   ]
  },
  {
   "cell_type": "markdown",
   "id": "062ee886",
   "metadata": {},
   "source": [
    "**<center>Lists: Complexity</center>**\n",
    "\n",
    "|Operation     | Example      | Class         | Notes|\n",
    "|--------------|--------------|---------------|-------------------------------\n",
    "|Index         | l[i]         | O(1)\t     ||\n",
    "|Store         | l[i] = 0     | O(1)\t     ||\n",
    "|Length        | len(l)       | O(1)\t     ||\n",
    "|Append        | l.append(5)  | O(1)\t     | mostly: ICS-46 covers details|\n",
    "|Pop\t      | l.pop()      | O(1)\t     | same as l.pop(-1), popping at end|\n",
    "|Clear         | l.clear()    | O(1)\t     | similar to l = []|\n",
    "|Slice         | l[a:b]       | O(b-a)\t     | l[1:5]:O(l)/l[:]:O(len(l)-0)=O(N)|\n",
    "|Extend        | l.extend(...)| O(len(...))   | depends only on len of extension|\n",
    "|Construction  | list(...)    | O(len(...))   | depends on length of ... iterable|\n",
    "|check ==, !=  | l1 == l2     | O(N)          ||\n",
    "|Insert        | l[a:b] = ... | O(N)\t     | |\n",
    "|Delete        | del l[i]     | O(N)\t     | depends on i; O(N) in worst case|\n",
    "|Containment   | x in/not in l| O(N)\t     | linearly searches list |\n",
    "|Copy          | l.copy()     | O(N)\t     | Same as l[:] which is O(N)|\n",
    "|Remove        | l.remove(...)| O(N)\t     | |\n",
    "|Pop\t      | l.pop(i)     | O(N)\t     | O(N-i): l.pop(0):O(N) (see above)|\n",
    "|Extreme value | min(l)/max(l)| O(N)\t     | linearly searches list for value|\n",
    "|Reverse\t      | l.reverse()  | O(N)\t     |　|\n",
    "|Iteration     | for v in l:  | O(N)          | Worst: no return/break in loop|\n",
    "|Sort          | l.sort()     | O(N Log N)    | key/reverse mostly doesn't change|\n",
    "|Multiply      | k*l          | O(k N)       | 5*l is O(N): len(l)*l is O(N**2)|"
   ]
  },
  {
   "cell_type": "markdown",
   "id": "b78aa26b",
   "metadata": {},
   "source": [
    "### 1.4 数据结构\n",
    "\n",
    "数据是抽象的概念，将其进行分类后得到程序设计语言中的基本类型，如int,float,char等，**数据元素之间不独立**，有特定的关系，这些关系就是结构，数据结构指**数据元素之间的关系**，python提供的现成数据类型（内置数据结构，封装好的）：列表、元组、字典，而python系统里面没有直接定义，需要自己定义实现数据的组织方式，称之为拓展数据结构如：栈、队列等\n",
    "\n",
    "#### 算法与数据结构的区别\n",
    "数据结构——静态描述数据元素之间的关系  \n",
    "高效的程序需要在数据结构的基础上设计和选择算法  \n",
    "程序 = 数据结构+算法"
   ]
  },
  {
   "cell_type": "code",
   "execution_count": null,
   "id": "7c672a3d",
   "metadata": {},
   "outputs": [],
   "source": [
    "#学生信息存储\n",
    "#列表存储\n",
    "[\n",
    "    (\"zhangsan\",24,\"beijing\"),\n",
    "    (\"lisi\",20,\"shanghai\"),\n",
    "    (\"wangwu\",22,\"shenzhen\")\n",
    "]\n",
    "#查询:时间复杂度O(n)\n",
    "for stu in stus:\n",
    "    if stu(0) == \"zhangsan\"\n",
    "    print(stu)\n",
    "    \n",
    "#字典存储:键无重复值\n",
    "{\n",
    "    {\"name\":\"zhangsan\",\n",
    "    \"age\":25,\n",
    "    \"hometown\":\"beijing\"},\n",
    "    {\"name\":\"lisi\",\n",
    "     \"age\":20,\n",
    "     \"hometown\":\"shanghai\"}\n",
    "}\n",
    "#字典存储\n",
    "{\n",
    "    {\"zhangsan\":{\n",
    "        \"age\":24,\n",
    "        \"hometown\":\"beijing\"\n",
    "    }},\n",
    "    {\"lisi\":{\n",
    "        \"age\":20,\n",
    "        \"hometown\":\"shanghai\"\n",
    "    }}\n",
    "}\n",
    "#查询:时间复杂度:O(1)\n",
    "stus[\"zhangsan\"]"
   ]
  },
  {
   "cell_type": "markdown",
   "id": "a1a5eab4",
   "metadata": {},
   "source": [
    "#### 抽象数据类型(abstract data type)\n",
    "一个数据模型以及定义在此数学模型上的一组操作，把**数据类型**和**数据类型上的运算**捆在一起，进行封装，常用的数据运算: 插入、删除、修改、查找、排序  \n",
    "引入抽象数据类型的目的：把数据类型的表示和数据类型上运算的实现与这些数据类型和运算在程序中的引用隔开，使他们相互独立。"
   ]
  }
 ],
 "metadata": {
  "kernelspec": {
   "display_name": "Python 3",
   "language": "python",
   "name": "python3"
  },
  "language_info": {
   "codemirror_mode": {
    "name": "ipython",
    "version": 3
   },
   "file_extension": ".py",
   "mimetype": "text/x-python",
   "name": "python",
   "nbconvert_exporter": "python",
   "pygments_lexer": "ipython3",
   "version": "3.8.8"
  }
 },
 "nbformat": 4,
 "nbformat_minor": 5
}
