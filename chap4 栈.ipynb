{
 "cells": [
  {
   "cell_type": "markdown",
   "id": "ce21fb45",
   "metadata": {},
   "source": [
    "### 栈\n",
    "- 栈的概念\n",
    "    - 是一种容器，可存入数据元素、访问元素、删除元素\n",
    "- 栈的特点\n",
    "    - 只能允许在容器的一端（称为栈顶端指标，英语：top）进行加入数据（英语：push）和输出数据（英语：pop）的运算,没有了位置概念，保证任何时候可以访问、删除的元素都是此前最后存入的那个元素，确定了一种默认的访问顺序。\n",
    "    - **LIFO**,last in first out\n",
    "- 栈与线性表的区别\n",
    "    - 栈描述的数据操作，而线性表包含了数据的存储方式\n",
    "- 栈的结构实现"
   ]
  },
  {
   "cell_type": "markdown",
   "id": "f85d9760",
   "metadata": {},
   "source": [
    "### 栈的实现\n",
    "\n",
    "可以使用链表或者顺序表实现\n",
    "\n",
    "**栈的操作**\n",
    "- stack()创建一个新的空栈\n",
    "- push(item)添加一个新的元素item到栈顶\n",
    "- pop()弹出栈顶元素\n",
    "- peek()返回栈顶元素\n",
    "- is.empty()判断栈是否为空\n",
    "- size()返回栈的元素个数"
   ]
  },
  {
   "cell_type": "code",
   "execution_count": 4,
   "id": "eb8f74d5",
   "metadata": {},
   "outputs": [
    {
     "name": "stdout",
     "output_type": "stream",
     "text": [
      "4\n",
      "3\n",
      "2\n"
     ]
    }
   ],
   "source": [
    "class Stack(object):\n",
    "    \"\"\"栈\"\"\"\n",
    "    \n",
    "    def __init__(self):\n",
    "        self.__list = []\n",
    "        \n",
    "    def push(self,item):\n",
    "        \"\"\"添加一个新的元素item到栈顶\"\"\"\n",
    "        self.__list.append(item)\n",
    "    \n",
    "    def pop(self):\n",
    "        \"\"\"弹出栈顶元素\"\"\"\n",
    "        return self.__list.pop()\n",
    "    \n",
    "    def peek(self):\n",
    "        \"\"\"返回栈顶元素\"\"\"\n",
    "        if self.__list:\n",
    "            return self.__list[-1]\n",
    "        else:\n",
    "            return None\n",
    "    \n",
    "    def is_epmty(self):\n",
    "        \"\"\"判断栈是否为空\"\"\"\n",
    "        return self.__list == []\n",
    "    \n",
    "    def size(self):\n",
    "        \"\"\"返回栈的元素个数\"\"\"\n",
    "        return len(self.__list)\n",
    "    \n",
    "\n",
    "if __name__==\"__main__\":\n",
    "    s = Stack()\n",
    "    s.push(1)\n",
    "    s.push(2)\n",
    "    s.push(3)\n",
    "    s.push(4)\n",
    "    print(s.pop())\n",
    "    print(s.pop())\n",
    "    print(s.pop())"
   ]
  }
 ],
 "metadata": {
  "kernelspec": {
   "display_name": "Python 3",
   "language": "python",
   "name": "python3"
  },
  "language_info": {
   "codemirror_mode": {
    "name": "ipython",
    "version": 3
   },
   "file_extension": ".py",
   "mimetype": "text/x-python",
   "name": "python",
   "nbconvert_exporter": "python",
   "pygments_lexer": "ipython3",
   "version": "3.8.8"
  }
 },
 "nbformat": 4,
 "nbformat_minor": 5
}
