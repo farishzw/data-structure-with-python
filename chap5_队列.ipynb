{
 "cells": [
  {
   "cell_type": "markdown",
   "id": "1e17b813",
   "metadata": {},
   "source": [
    "### 队列(queue)\n",
    "\n",
    "- 队列概念\n",
    "    - 只允许在一端进行插入操作，而在另一端进行删除操作的线性表\n",
    "- 队列特点\n",
    "    - 先进先出的（First In First Out）的线性表，**FIFO**\n",
    "    - 允许插入的一端为队尾，允许删除的一端为队头。队列不允许在中间部位进行操作！\n",
    "- 队列的实现\n",
    "    - 与栈类似，队列可以用顺序表或者链表实现\n",
    "    - **操作**\n",
    "        - Queue()创建一个空队列\n",
    "        - enqueue(item)往队列中添加一个item元素\n",
    "        - dequeue()从队列头部删除一个元素\n",
    "        - is_empty()判断一个队列是否为空\n",
    "        - size()返回队列的大小\n"
   ]
  },
  {
   "cell_type": "code",
   "execution_count": 4,
   "id": "0d44ca58",
   "metadata": {},
   "outputs": [
    {
     "name": "stdout",
     "output_type": "stream",
     "text": [
      "1\n",
      "2\n",
      "2\n"
     ]
    }
   ],
   "source": [
    "class Queue(object):\n",
    "    \"\"\"队列\"\"\"\n",
    "    def __init__(self):\n",
    "        self.__list = []\n",
    "        \n",
    "    def enqueue(self,item):\n",
    "        \"\"\"往队列中添加一个元素\"\"\"\n",
    "        self.__list.append(item)\n",
    "        \n",
    "    def dequeue(self):\n",
    "        \"\"\"从队列头部删除一个元素\"\"\"\n",
    "        return self.__list.pop(0)\n",
    "        \n",
    "    def is_empty(self):\n",
    "        return self.__list == []\n",
    "    \n",
    "    def size(self):\n",
    "        return len(self.__list)\n",
    "    \n",
    "if __name__ == \"__main__\":\n",
    "    Q = Queue()\n",
    "    Q.enqueue(1)\n",
    "    Q.enqueue(2)\n",
    "    Q.enqueue(3)\n",
    "    Q.enqueue(4)\n",
    "    print(Q.dequeue())\n",
    "    print(Q.dequeue())\n",
    "    print(Q.size())"
   ]
  },
  {
   "cell_type": "markdown",
   "id": "5999241d",
   "metadata": {},
   "source": [
    "### 双端队列deque\n",
    "\n",
    "- 概念\n",
    "    - double-ended queue 一种具有队列和栈的性质的数据结构\n",
    "- 特点\n",
    "    - 双端队列中的元素可以从两端弹出，其限定插入和删除操作在表的两端进行。双端队列可以在队列任意一端入队和出队\n",
    "- 操作\n",
    "    - Deque()创建一个空的队列\n",
    "    - add_front(item)从队头加入一个item元素\n",
    "    - add_rear(item)从队尾加入一个item元素\n",
    "    - remove_front()从队头删除一个元素\n",
    "    - remove_rear()从队尾删除一个元素\n",
    "    - is_empty()判断双端队列是否为空\n",
    "    - size()返回队列的大小"
   ]
  },
  {
   "cell_type": "code",
   "execution_count": 7,
   "id": "8fba9689",
   "metadata": {},
   "outputs": [
    {
     "name": "stdout",
     "output_type": "stream",
     "text": [
      "3\n",
      "4\n"
     ]
    }
   ],
   "source": [
    "class Deque(object):\n",
    "    \"\"\"双端队列\"\"\"\n",
    "    def __init__(self):\n",
    "        self.__list = []\n",
    "        \n",
    "    def add_front(self,item):\n",
    "        \"\"\"从队头加入一个item元素\"\"\"\n",
    "        self.__list.insert(0,item)\n",
    "        \n",
    "    def add_rear(self,item):\n",
    "        \"\"\"从队尾添加一个item元素\"\"\"\n",
    "        self.__list.append(item)\n",
    "        \n",
    "    def remove_front(self):\n",
    "        \"\"\"从队头删除一个元素\"\"\"\n",
    "        return self.__list.pop(0)\n",
    "    \n",
    "    def remove_rear(self):\n",
    "        \"\"\"从队尾删除一个元素\"\"\"\n",
    "        return self.__list.pop()\n",
    "    \n",
    "    def is_empty(self):\n",
    "        \"\"\"判断双端队列是否为空\"\"\"\n",
    "        return self.__list == []\n",
    "    \n",
    "    def size(self):\n",
    "        return len(self.__list)\n",
    "    \n",
    "if __name__ ==\"__main__\":\n",
    "    d = Deque()\n",
    "    d.add_front(1)\n",
    "    d.add_rear(2)\n",
    "    d.add_front(3)\n",
    "    d.add_rear(4)\n",
    "    print(d.remove_front())\n",
    "    print(d.remove_rear())"
   ]
  }
 ],
 "metadata": {
  "kernelspec": {
   "display_name": "Python 3",
   "language": "python",
   "name": "python3"
  },
  "language_info": {
   "codemirror_mode": {
    "name": "ipython",
    "version": 3
   },
   "file_extension": ".py",
   "mimetype": "text/x-python",
   "name": "python",
   "nbconvert_exporter": "python",
   "pygments_lexer": "ipython3",
   "version": "3.8.8"
  }
 },
 "nbformat": 4,
 "nbformat_minor": 5
}
