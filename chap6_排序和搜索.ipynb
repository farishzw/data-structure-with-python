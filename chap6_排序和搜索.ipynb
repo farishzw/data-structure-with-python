{
 "cells": [
  {
   "cell_type": "markdown",
   "id": "5abfe647",
   "metadata": {},
   "source": [
    "### 排序算法\n",
    "\n",
    "#### 冒泡排序\n",
    "- 操作步骤：每一轮从第一个元素开始，相邻两个元素比较，交换位置\n",
    "- **最优时间复杂度$O(n)$**:表示遍历一次发现没有任何可以交换的元素，排序结束\n",
    "- **最坏时间复杂度$O(n^2)$**\n",
    "- **稳定性**：稳定\n",
    "<img src=\"https://www.w3resource.com/w3r_images/bubble-short.png\" alt=\"bubble\" width=\"50%\">"
   ]
  },
  {
   "cell_type": "code",
   "execution_count": 6,
   "id": "66f44042",
   "metadata": {},
   "outputs": [
    {
     "name": "stdout",
     "output_type": "stream",
     "text": [
      "[14, 46, 43, 27, 57, 41, 45, 21, 70]\n",
      "[14, 21, 27, 41, 43, 45, 46, 57, 70]\n"
     ]
    }
   ],
   "source": [
    "def bubble_sort(alist):\n",
    "    \"\"\"冒泡排序\"\"\"\n",
    "    for passnum in range(len(alist)-1,0,-1):\n",
    "        for j in range(passnum):\n",
    "            if alist[j]>alist[j+1]:\n",
    "                alist[j],alist[j+1]=alist[j+1],alist[j]\n",
    "\n",
    "nlist = [14,46,43,27,57,41,45,21,70]\n",
    "print(nlist)\n",
    "bubble_sort(nlist)\n",
    "print(nlist)"
   ]
  },
  {
   "cell_type": "markdown",
   "id": "79d169ff",
   "metadata": {},
   "source": [
    "#### 选择排序：\n",
    "- 操作步骤：每一轮找后面序列的最小值，进行交换\n",
    "- **最坏时间复杂度$O(n^2)$**\n",
    "相较于冒泡排序，每个循环只交换一次值\n",
    "- **最优时间复杂度$O(n^2)$**\n",
    "- 稳定性：不稳定（考虑升序每次选择最大的情况），数组或者列表中出现相同元素时，元素的相对位置（索引）不改变\n",
    "<img src=\"https://www.w3resource.com/w3r_images/selection-short.png\" alt=\"selection\" width=\"50%\">"
   ]
  },
  {
   "cell_type": "code",
   "execution_count": 5,
   "id": "d49755a5",
   "metadata": {},
   "outputs": [
    {
     "name": "stdout",
     "output_type": "stream",
     "text": [
      "[14, 46, 43, 27, 57, 41, 45, 21, 70]\n",
      "[14, 21, 27, 41, 43, 45, 46, 57, 70]\n"
     ]
    }
   ],
   "source": [
    "def select_sort(alist):\n",
    "    \"\"\"选择排序\"\"\"\n",
    "    for i in range(len(alist)-1):\n",
    "        min_index = i\n",
    "        for j in range(i+1,len(alist)):\n",
    "            if alist[min_index]>alist[j]:\n",
    "                min_index = j\n",
    "        alist[i],alist[min_index]=alist[min_index],alist[i]\n",
    "                \n",
    "nlist = [14,46,43,27,57,41,45,21,70]\n",
    "print(nlist)\n",
    "select_sort(nlist)\n",
    "print(nlist)"
   ]
  },
  {
   "cell_type": "markdown",
   "id": "29104bb9",
   "metadata": {},
   "source": [
    "#### 插入排序\n",
    "- 操作步骤:将右边无序列表元素逐个与左边元素对比，找到元素顺序插入位置\n",
    "- 最坏时间复杂度：$O(n^2)$\n",
    "- 最优时间复杂度:$O(n)$\n",
    "- 稳定性：稳定\n",
    "- 插入排序和选择排序的异同\n",
    "    - 相同点：左边序列有序，右边序列无序\n",
    "    - 差异：选择排序操作右边，将每次的值与右边的无序序列进行比较选出最小值交换；\n",
    "    <br>而插入排序操作序列左边，将右边无序序列和左边的每一个元素比较选择插入的位置\n",
    "<img src=\"https://www.w3resource.com/w3r_images/insertion-sort.png\" alt=\"insert\" width=70%>"
   ]
  },
  {
   "cell_type": "code",
   "execution_count": 18,
   "id": "9d0241c0",
   "metadata": {},
   "outputs": [
    {
     "name": "stdout",
     "output_type": "stream",
     "text": [
      "[14, 46, 43, 27, 57, 41, 45, 21, 70]\n",
      "[14, 21, 27, 41, 43, 45, 46, 57, 70]\n"
     ]
    }
   ],
   "source": [
    "def insert_sort(alist):\n",
    "    \"\"\"插入排序\"\"\"\n",
    "    for i in range(1,len(alist)):\n",
    "        for j in range(i,0,-1):\n",
    "            if alist[j]<alist[j-1]:\n",
    "                alist[j],alist[j-1]=alist[j-1],alist[j]\n",
    "\n",
    "nlist = [14,46,43,27,57,41,45,21,70]\n",
    "print(nlist)\n",
    "select_sort(nlist)\n",
    "print(nlist)"
   ]
  },
  {
   "cell_type": "code",
   "execution_count": 19,
   "id": "2da1ec5f",
   "metadata": {},
   "outputs": [],
   "source": [
    "#有序列表循环优化\n",
    "def insert_sort(alist):\n",
    "    for i in range(1,len(alist)):\n",
    "        while i>0:\n",
    "            if alist[i]<alist[i-1]:\n",
    "                alist[i],alist[i-1]=alist[i-1],alist[i]\n",
    "                i-=1\n",
    "            else:\n",
    "                break"
   ]
  },
  {
   "cell_type": "markdown",
   "id": "53370e5d",
   "metadata": {},
   "source": [
    "#### 希尔排序\n",
    "- 操作：用下标的等差序列将原始序列分成多个子序列按照插入排序的方式对子序列排序后合成序列，改变d重复上述步骤\n",
    "- 最坏时间复杂度：$o(n^2)$\n",
    "- 最优时间复杂度:根据步长序列不同\n",
    "- 稳定性：不稳定\n",
    "<img src=\"https://www.alphacodingskills.com/algo/img/shell-sort.png\" alt=\"shell\" width=50%>"
   ]
  },
  {
   "cell_type": "code",
   "execution_count": 20,
   "id": "c8cc7657",
   "metadata": {},
   "outputs": [
    {
     "name": "stdout",
     "output_type": "stream",
     "text": [
      "[14, 46, 43, 27, 57, 41, 45, 21, 70]\n",
      "[14, 21, 27, 41, 43, 45, 46, 57, 70]\n"
     ]
    }
   ],
   "source": [
    "def shell_sort(alist):\n",
    "    \"\"\"希尔排序\"\"\"\n",
    "    n=len(alist)\n",
    "    gap = n // 2#向下取整\n",
    "    while gap>=1:\n",
    "        for i in range(gap,n):\n",
    "            while i>0:\n",
    "                if alist[i]<alist[i-gap]:\n",
    "                    alist[i],alist[i-gap]=alist[i-gap],alist[i]\n",
    "                    i-=gap\n",
    "                else:\n",
    "                    break\n",
    "        gap//=2\n",
    "\n",
    "nlist = [14,46,43,27,57,41,45,21,70]\n",
    "print(nlist)\n",
    "select_sort(nlist)\n",
    "print(nlist)"
   ]
  },
  {
   "cell_type": "markdown",
   "id": "e3e815eb",
   "metadata": {},
   "source": [
    "#### 快速排序\n",
    "- 操作:首先选定一个枢轴元素，基于枢轴划分数组，枢轴左侧包含所有小于枢轴的元素，枢轴右侧包含所有大于枢轴的元素，双指针交换数据\n",
    "- 最坏时间复杂度:$O(n^2)$\n",
    "- 最优时间复杂度:$O(nlogn)$\n",
    "- 空间复杂度：就地排序算法，不使用代码中额外的空间。但每个递归程序都在后台调用堆栈来执行，快排的空间复杂度取决于递归调用栈的大小，即递归树的高度\n",
    "- 稳定性:不稳定\n",
    "<img src=\"https://www.w3resource.com/w3r_images/quick-sort-part-1.png\" alt=\"quick\" width=50%>\n",
    "<img src=\"https://www.w3resource.com/w3r_images/quick-sort-part-2.png\" alt=\"quick\" width=50%>"
   ]
  },
  {
   "cell_type": "code",
   "execution_count": 30,
   "id": "141e1140",
   "metadata": {},
   "outputs": [
    {
     "name": "stdout",
     "output_type": "stream",
     "text": [
      "[14, 46, 43, 27, 57, 41, 45, 21, 70]\n",
      "[14, 21, 27, 41, 43, 45, 46, 57, 70]\n"
     ]
    }
   ],
   "source": [
    "def Quick_sort(alist,first,last):\n",
    "    \"\"\"快速排序\"\"\"\n",
    "    if first>=last:\n",
    "        return \n",
    "    mid_value = alist[first]\n",
    "    low=first\n",
    "    high = last\n",
    "    while low<high:\n",
    "        while low<high and alist[high]>=mid_value:\n",
    "            high-=1\n",
    "        alist[low]=alist[high]\n",
    "        while low<high and alist[low]<=mid_value:\n",
    "            low+=1\n",
    "        alist[high]=alist[low]\n",
    "    #从循环退出时,low=high\n",
    "    alist[low]=mid_value#找到第一个中间值的位置\n",
    "    \n",
    "    Quick_sort(alist,first,low-1)\n",
    "    Quick_sort(alist,low+1,last)\n",
    "    \n",
    "nlist = [14,46,43,27,57,41,45,21,70]\n",
    "print(nlist)\n",
    "Quick_sort(nlist,0,len(nlist)-1)\n",
    "print(nlist)"
   ]
  },
  {
   "cell_type": "markdown",
   "id": "c84f59fd",
   "metadata": {},
   "source": [
    "<img src = \"https://www.alphacodingskills.com/algo/img/quick-sort-diagram.PNG\" alt=\"quick2\" width=70%>\n",
    "\n",
    "此方法选择列表的最后一个元素作为枢轴元素，在分区开始的过程中，变量$i$和$j$被创建，最初是相同的，随着分区的进行$i$,$j$的值变得不同，$i$表示小于枢轴的元素和大于枢轴元素之间的边界，$j$表示大于主元和未区分列表元素之间的边界"
   ]
  },
  {
   "cell_type": "code",
   "execution_count": 32,
   "id": "8935c6c3",
   "metadata": {},
   "outputs": [
    {
     "name": "stdout",
     "output_type": "stream",
     "text": [
      "[14, 46, 43, 27, 57, 41, 45, 21, 70]\n",
      "[14, 21, 27, 41, 43, 45, 46, 57, 70]\n"
     ]
    }
   ],
   "source": [
    "def quicksort(alist,left,right):\n",
    "    \"\"\"快速排序\"\"\"\n",
    "    if left<right:\n",
    "        pivot = partition(alist,left,right)\n",
    "        quicksort(alist,left,pivot-1)\n",
    "        quicksort(alist,pivot+1,right)\n",
    "\n",
    "def partition(alist,left,right):\n",
    "    i=left\n",
    "    pivot=alist[right]\n",
    "    for j in range(left,right):\n",
    "        if(alist[j]<pivot):\n",
    "            alist[i],alist[j]=alist[j],alist[i]\n",
    "            i+=1\n",
    "    alist[i],alist[right]=alist[right],alist[i]\n",
    "    return i\n",
    "\n",
    "nlist = [14,46,43,27,57,41,45,21,70]\n",
    "print(nlist)\n",
    "quicksort(nlist,0,len(nlist)-1)\n",
    "print(nlist)"
   ]
  },
  {
   "cell_type": "markdown",
   "id": "04abd689",
   "metadata": {},
   "source": [
    "#### 归并排序\n",
    "- 操作：先将序列对半拆分至单个元素，在一层一层合并，合并时需要在每个部分比较确定位置\n",
    "- 最坏时间复杂度：$O(nlogn)$\n",
    "- 最优时间复杂度:$O(nlogn)$\n",
    "- 稳定性: 稳定\n",
    "- 空间复杂度：开辟新的空间存储排序后的列表\n",
    "<img src=\"https://www.101computing.net/wp/wp-content/uploads/Merge-Sort-Algorithm.png\" alt=\"merge\" width=70%>"
   ]
  },
  {
   "cell_type": "code",
   "execution_count": 35,
   "id": "f4db0681",
   "metadata": {},
   "outputs": [
    {
     "name": "stdout",
     "output_type": "stream",
     "text": [
      "[14, 46, 43, 27, 57, 41, 45, 21, 70]\n",
      "[14, 21, 27, 41, 43, 45, 46, 57, 70]\n"
     ]
    }
   ],
   "source": [
    "def merge_sort(alist):\n",
    "    \"\"\"归并排序\"\"\"\n",
    "    n=len(alist)\n",
    "    if n<=1:\n",
    "        return alist\n",
    "    mid = n//2\n",
    "    \n",
    "    #left采用归并排序后形成的有序的新列表\n",
    "    left_li = merge_sort(alist[:mid])\n",
    "    #right采用归并排序后形成的有序新列表\n",
    "    right_li = merge_sort(alist[mid:])\n",
    "    \n",
    "    #将两个有序子序列合并成为一个新的整体\n",
    "    left_pointer,right_pointer = 0,0\n",
    "    result = []\n",
    "    \n",
    "    while left_pointer<len(left_li) and right_pointer<len(right_li):\n",
    "        if left_li[left_pointer] < right_li[right_pointer]:\n",
    "            result.append(left_li[left_pointer])\n",
    "            left_pointer+=1\n",
    "        else:\n",
    "            result.append(right_li[right_pointer])\n",
    "            right_pointer+=1\n",
    "    result += left_li[left_pointer:]\n",
    "    result += right_li[right_pointer:]\n",
    "    return result\n",
    "\n",
    "nlist = [14,46,43,27,57,41,45,21,70]\n",
    "print(nlist)\n",
    "mlist=merge_sort(nlist)\n",
    "print(mlist)"
   ]
  },
  {
   "cell_type": "markdown",
   "id": "20ac79b4",
   "metadata": {},
   "source": [
    "|排序方式|平均情况|最好情况|最坏情况|辅助空间|稳定性|\n",
    "|:------:|:-------:|:------:|:-----:|:-------:|:---|\n",
    "|冒泡排序|$O(n^2)$|$O(n)$|$O(n^2)$|$O(1)$|稳定|\n",
    "|选择排序|$O(n^2)$|$O(n^2)$|$O(n^2)$|$O(1)$|不稳定|\n",
    "|插入排序|$O(n^2)$|$O(n)$|$O(n^2)$|$O(1)$|稳定|\n",
    "|希尔排序|$O(nlogn)~O(n^2)$|$O(n^{1.3})$|$O(n^2)$|$O(1)$|不稳定|\n",
    "|快速排序|$O(nlogn)$|$O(nlogn)$|$O(n^2)$|$O(nlogn)~O(n)$|不稳定|\n",
    "|归并排序|$O(nlogn)$|$O(nlogn)$|$O(nlogn)$|$O(n)$|稳定|\n"
   ]
  },
  {
   "cell_type": "markdown",
   "id": "c26bde26",
   "metadata": {},
   "source": [
    "#### 二分查找\n",
    "- 操作：对有序列表的二分比较中间位置的元素和查找元素的关系，进而更新查抄范围继续二分\n",
    "- 最坏时间复杂度:$O(logn)$\n",
    "- 最优时间复杂度:$O(1)$"
   ]
  },
  {
   "cell_type": "code",
   "execution_count": 41,
   "id": "f412ba1f",
   "metadata": {},
   "outputs": [
    {
     "name": "stdout",
     "output_type": "stream",
     "text": [
      "True\n",
      "False\n"
     ]
    }
   ],
   "source": [
    "def binary_search(alist,item):\n",
    "    \"\"\"二分查找递归方式\"\"\"\n",
    "    n=len(alist)\n",
    "    if n>0:\n",
    "        mid = n//2\n",
    "        if alist[mid]== item:\n",
    "            return True\n",
    "        elif item < alist[mid]:\n",
    "            return binary_search(alist[:mid],item)\n",
    "        else:\n",
    "            return binary_search(alist[mid+1:],item)\n",
    "    return False\n",
    "\n",
    "li = [14, 21, 27, 41, 43, 45, 46, 57, 70]\n",
    "print(binary_search(li,41))\n",
    "print(binary_search(li,71))\n"
   ]
  },
  {
   "cell_type": "code",
   "execution_count": 45,
   "id": "c2f73a91",
   "metadata": {},
   "outputs": [
    {
     "name": "stdout",
     "output_type": "stream",
     "text": [
      "True\n",
      "False\n"
     ]
    }
   ],
   "source": [
    "def binary_search_1(alist,item):\n",
    "    \"\"\"二分查找非递归方式\"\"\"\n",
    "    n = len(alist)\n",
    "    first = 0\n",
    "    last = n-1\n",
    "    while first <= last:\n",
    "        mid = (first+last)//2\n",
    "        if alist[mid]==item:\n",
    "            return True\n",
    "        elif alist[mid] > item:\n",
    "            last = mid-1\n",
    "        else:\n",
    "            first = mid+1\n",
    "    return False\n",
    "\n",
    "li = [14, 21, 27, 41, 43, 45, 46, 57, 70]\n",
    "print(binary_search_1(li,41))\n",
    "print(binary_search_1(li,71))"
   ]
  }
 ],
 "metadata": {
  "kernelspec": {
   "display_name": "Python 3",
   "language": "python",
   "name": "python3"
  },
  "language_info": {
   "codemirror_mode": {
    "name": "ipython",
    "version": 3
   },
   "file_extension": ".py",
   "mimetype": "text/x-python",
   "name": "python",
   "nbconvert_exporter": "python",
   "pygments_lexer": "ipython3",
   "version": "3.8.8"
  }
 },
 "nbformat": 4,
 "nbformat_minor": 5
}
