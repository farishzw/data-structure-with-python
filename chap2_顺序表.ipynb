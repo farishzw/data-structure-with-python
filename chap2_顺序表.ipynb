{
 "cells": [
  {
   "cell_type": "markdown",
   "id": "09ae892f",
   "metadata": {},
   "source": [
    "## chap 2 顺序表\n",
    "- 2.1 顺序表的形式\n",
    "- 2.2 顺序表的结构和实现\n",
    "- 2.3 顺序表的操作\n",
    "- 2.4 python中的顺序表"
   ]
  },
  {
   "cell_type": "markdown",
   "id": "ae565127",
   "metadata": {
    "heading_collapsed": true
   },
   "source": [
    "### 2.0 数组\n",
    "- 最常见的数据结构\n",
    "- 存储相同类型的数据，按顺序存储\n",
    "- 访问&更新方式：数组名，下标"
   ]
  },
  {
   "cell_type": "markdown",
   "id": "af2933f3",
   "metadata": {},
   "source": [
    "### 2.1 顺序表的形式\n",
    "计算机存储空间,内存的基本单元:字节,1个字节占8位，有地址标识的存储空间如(0x01,0x02,0x03等). \n",
    "<br><span style='color:red'>*为什么介绍编程语言时先介绍了变量类型？*</span>\n",
    "<br>**数据类型决定**\n",
    "1. 在计算机中占多少个存储单元（本质）\n",
    "2. 计算机如何读取二进制数据\n",
    "3. eg. 32位系统中存储，整形int占4个字节byte,如int a=1转换为8位二进制数000000001,前面三个字节都是00000000;Char中的一个字符占据1个字节byte\n",
    "\n",
    "**顺序表的基本形式**\n",
    "- 数据元素本身连续存储,每个元素所占的存储单元大小固定相同\n",
    "- 元素的下标是其逻辑地址，而元素存储的物理地址可以通过存储区的起始地址$Loc(e_0)$加逻辑地址（第i个元素）与存储单元大小(c)的乘积计算而得，即\n",
    "$$Loc(e_i)=Loc(e_0)+c*i$$\n",
    "- 读取集合中的元素通过偏移快速定位和读取,时间复杂度为$O(1)$\n",
    "- 若元素的大小不统一，则采用元素外置的形式，将实际数据元素另行存储，而顺序表中各单元位置保存对应元素的地址信息即链接（存储来链接地址所需要的存储量通常很小）"
   ]
  },
  {
   "cell_type": "markdown",
   "id": "9c91f6ff",
   "metadata": {},
   "source": [
    "### 2.2 顺序表的结构与实现\n",
    "**顺序表的结构**\n",
    "- 表头信息（容量，元素个数：已有元素个数）&数据区\n",
    "\n",
    "<br>**顺序表的基本实现方式**\n",
    "- 一体式结构\n",
    "    - 存储表信息的单元与元素存储区以连续的方式安排在一块存储区中，两部分数据的整体形成一个完整的顺序表对象\n",
    "- 分离式结构\n",
    "    - 表对象里只保存与整个表有关的信息（容量和元素个数），实际数据元素存放在一个独立的元素存储区，通过链接与基本表对象关联\n",
    "    - 元素存储区扩充时可以不改变表头信息\n",
    "    \n",
    "**元素存储区扩充**\n",
    "采用分离式结构的顺序表，若将数据区更换为存储空间更大的区域，可以在不改变对象的前提下对其数据存储区进行扩充，所有使用这个表的地方都不必修改。只要程序的运行环境还有空闲存储，这种表结构就不会因为满了而导致操作无法执行。\n",
    "\n",
    "扩充的两种策略\n",
    "- 每次扩充增加固定数目的存储位置，线性增长\n",
    "- 每次扩充容量加倍（用空间换时间，浪费空间资源，减少时间浪费）"
   ]
  },
  {
   "cell_type": "markdown",
   "id": "3a96a8d1",
   "metadata": {},
   "source": [
    "### 2.3 顺序表中的操作\n",
    "**增加元素**\n",
    "- 尾端添加元素，时间复杂度$O(1)$\n",
    "- 非保序的加入元素，时间复杂度为$O(1)$\n",
    "- 保序的元素加入，时间复杂度为$O(n)$\n",
    "\n",
    "**删除元素**\n",
    "- 删除表尾元素，$O(1)$\n",
    "- 非保序的元素删除，$O(1)$\n",
    "- 保序的元素删除,$O(n)$"
   ]
  },
  {
   "cell_type": "markdown",
   "id": "eb3a1625",
   "metadata": {},
   "source": [
    "### 2.4 python中的顺序表\n",
    "list和tuple两种类型采用了顺序表的实现技术，具有前面讨论的顺序表的所有性质\n",
    "<br>tuple是不可变类型，即不变的顺序表，不支持该改变其内部状态的任何操作，其他方面域list的性质类似\n",
    "\n",
    "**list的基本实现技术**\n",
    "- 采用分离式技术实现的动态顺序表，元素个数可变的线性表，可加入和删除元素\n",
    "- 基于下标的高效元素访问和更新，时间复杂度$O(1)$,顺序表技术\n",
    "- 允许任意加入元素，在不断加入元素的过程中，表对象的标识(函数id得到的值)不变，更换元素存储区，并且为保证更换存储区时list对象的标识id不变，只能采用分离式实现技术\n",
    "\n",
    "**list内置操作的时间复杂度**\n",
    "\n",
    "|operation|big-O efficiency|\n",
    "|:--------|:---------------|\n",
    "|indexing|O(1)|\n",
    "|insertion or deletion at the end(append or pop)|O(1)|\n",
    "|insertion or deletion at the beginning or middle(insert or pop with index)|O(n)|\n",
    "|concatenation(+ operator)|O(k) k is the length of the concatenated list|\n",
    "|repetition(* operator)|O(nk) n is the length of the list and k is the repetition factor|"
   ]
  }
 ],
 "metadata": {
  "kernelspec": {
   "display_name": "Python 3",
   "language": "python",
   "name": "python3"
  },
  "language_info": {
   "codemirror_mode": {
    "name": "ipython",
    "version": 3
   },
   "file_extension": ".py",
   "mimetype": "text/x-python",
   "name": "python",
   "nbconvert_exporter": "python",
   "pygments_lexer": "ipython3",
   "version": "3.8.8"
  }
 },
 "nbformat": 4,
 "nbformat_minor": 5
}
